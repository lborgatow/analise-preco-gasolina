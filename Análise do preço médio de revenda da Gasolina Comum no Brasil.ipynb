{
 "cells": [
  {
   "cell_type": "markdown",
   "id": "da7b5fb9",
   "metadata": {
    "id": "da7b5fb9"
   },
   "source": [
    "# **IMPORTANDO BIBLIOTECAS**"
   ]
  },
  {
   "cell_type": "code",
   "execution_count": 1,
   "id": "1424870c",
   "metadata": {
    "id": "1424870c"
   },
   "outputs": [],
   "source": [
    "import pandas as pd\n",
    "import numpy as np\n",
    "\n",
    "import matplotlib.pyplot as plt\n",
    "import seaborn as sns"
   ]
  },
  {
   "cell_type": "markdown",
   "id": "b45d58f7",
   "metadata": {
    "id": "b45d58f7"
   },
   "source": [
    "# **LEITURA E VISUALIZAÇÃO DOS DADOS**"
   ]
  },
  {
   "cell_type": "code",
   "execution_count": 2,
   "id": "c46ae1ca",
   "metadata": {
    "id": "c46ae1ca"
   },
   "outputs": [
    {
     "data": {
      "text/html": [
       "<div>\n",
       "<style scoped>\n",
       "    .dataframe tbody tr th:only-of-type {\n",
       "        vertical-align: middle;\n",
       "    }\n",
       "\n",
       "    .dataframe tbody tr th {\n",
       "        vertical-align: top;\n",
       "    }\n",
       "\n",
       "    .dataframe thead th {\n",
       "        text-align: right;\n",
       "    }\n",
       "</style>\n",
       "<table border=\"1\" class=\"dataframe\">\n",
       "  <thead>\n",
       "    <tr style=\"text-align: right;\">\n",
       "      <th></th>\n",
       "      <th>DATA INICIAL</th>\n",
       "      <th>DATA FINAL</th>\n",
       "      <th>PRODUTO</th>\n",
       "      <th>NÚMERO DE POSTOS PESQUISADOS</th>\n",
       "      <th>UNIDADE DE MEDIDA</th>\n",
       "      <th>PREÇO MÉDIO REVENDA</th>\n",
       "      <th>DESVIO PADRÃO REVENDA</th>\n",
       "      <th>PREÇO MÍNIMO REVENDA</th>\n",
       "      <th>PREÇO MÁXIMO REVENDA</th>\n",
       "      <th>MARGEM MÉDIA REVENDA</th>\n",
       "      <th>COEF DE VARIAÇÃO REVENDA</th>\n",
       "      <th>PREÇO MÉDIO DISTRIBUIÇÃO</th>\n",
       "      <th>DESVIO PADRÃO DISTRIBUIÇÃO</th>\n",
       "      <th>PREÇO MÍNIMO DISTRIBUIÇÃO</th>\n",
       "      <th>PREÇO MÁXIMO DISTRIBUIÇÃO</th>\n",
       "      <th>COEF DE VARIAÇÃO DISTRIBUIÇÃO</th>\n",
       "    </tr>\n",
       "  </thead>\n",
       "  <tbody>\n",
       "    <tr>\n",
       "      <th>0</th>\n",
       "      <td>2012-12-30</td>\n",
       "      <td>2013-01-05</td>\n",
       "      <td>ETANOL HIDRATADO</td>\n",
       "      <td>8173</td>\n",
       "      <td>R$/l</td>\n",
       "      <td>1.948</td>\n",
       "      <td>0.244</td>\n",
       "      <td>1.479</td>\n",
       "      <td>3.000</td>\n",
       "      <td>0.262</td>\n",
       "      <td>0.125</td>\n",
       "      <td>1.686</td>\n",
       "      <td>0.219</td>\n",
       "      <td>1.2995</td>\n",
       "      <td>2.3632</td>\n",
       "      <td>0.13</td>\n",
       "    </tr>\n",
       "    <tr>\n",
       "      <th>1</th>\n",
       "      <td>2012-12-30</td>\n",
       "      <td>2013-01-05</td>\n",
       "      <td>GASOLINA COMUM</td>\n",
       "      <td>8672</td>\n",
       "      <td>R$/l</td>\n",
       "      <td>2.758</td>\n",
       "      <td>0.147</td>\n",
       "      <td>2.269</td>\n",
       "      <td>3.799</td>\n",
       "      <td>0.385</td>\n",
       "      <td>0.053</td>\n",
       "      <td>2.373</td>\n",
       "      <td>0.11</td>\n",
       "      <td>2.12</td>\n",
       "      <td>2.89</td>\n",
       "      <td>0.046</td>\n",
       "    </tr>\n",
       "    <tr>\n",
       "      <th>2</th>\n",
       "      <td>2012-12-30</td>\n",
       "      <td>2013-01-05</td>\n",
       "      <td>GLP</td>\n",
       "      <td>8052</td>\n",
       "      <td>R$/13Kg</td>\n",
       "      <td>40.113</td>\n",
       "      <td>4.017</td>\n",
       "      <td>26.000</td>\n",
       "      <td>62.000</td>\n",
       "      <td>10.362</td>\n",
       "      <td>0.100</td>\n",
       "      <td>29.751</td>\n",
       "      <td>4.514</td>\n",
       "      <td>16.14</td>\n",
       "      <td>45</td>\n",
       "      <td>0.152</td>\n",
       "    </tr>\n",
       "    <tr>\n",
       "      <th>3</th>\n",
       "      <td>2012-12-30</td>\n",
       "      <td>2013-01-05</td>\n",
       "      <td>GNV</td>\n",
       "      <td>499</td>\n",
       "      <td>R$/m3</td>\n",
       "      <td>1.757</td>\n",
       "      <td>0.176</td>\n",
       "      <td>1.399</td>\n",
       "      <td>2.599</td>\n",
       "      <td>0.431</td>\n",
       "      <td>0.100</td>\n",
       "      <td>1.326</td>\n",
       "      <td>0.146</td>\n",
       "      <td>0.8354</td>\n",
       "      <td>1.8217</td>\n",
       "      <td>0.11</td>\n",
       "    </tr>\n",
       "    <tr>\n",
       "      <th>4</th>\n",
       "      <td>2012-12-30</td>\n",
       "      <td>2013-01-05</td>\n",
       "      <td>OLEO DIESEL</td>\n",
       "      <td>6813</td>\n",
       "      <td>R$/l</td>\n",
       "      <td>2.153</td>\n",
       "      <td>0.114</td>\n",
       "      <td>1.869</td>\n",
       "      <td>2.950</td>\n",
       "      <td>0.226</td>\n",
       "      <td>0.053</td>\n",
       "      <td>1.927</td>\n",
       "      <td>0.082</td>\n",
       "      <td>1.7275</td>\n",
       "      <td>2.57</td>\n",
       "      <td>0.043</td>\n",
       "    </tr>\n",
       "    <tr>\n",
       "      <th>...</th>\n",
       "      <td>...</td>\n",
       "      <td>...</td>\n",
       "      <td>...</td>\n",
       "      <td>...</td>\n",
       "      <td>...</td>\n",
       "      <td>...</td>\n",
       "      <td>...</td>\n",
       "      <td>...</td>\n",
       "      <td>...</td>\n",
       "      <td>...</td>\n",
       "      <td>...</td>\n",
       "      <td>...</td>\n",
       "      <td>...</td>\n",
       "      <td>...</td>\n",
       "      <td>...</td>\n",
       "      <td>...</td>\n",
       "    </tr>\n",
       "    <tr>\n",
       "      <th>3083</th>\n",
       "      <td>2022-09-11</td>\n",
       "      <td>2022-09-17</td>\n",
       "      <td>GASOLINA COMUM</td>\n",
       "      <td>4874</td>\n",
       "      <td>R$/l</td>\n",
       "      <td>4.970</td>\n",
       "      <td>0.342</td>\n",
       "      <td>4.170</td>\n",
       "      <td>6.990</td>\n",
       "      <td>-</td>\n",
       "      <td>0.069</td>\n",
       "      <td>-</td>\n",
       "      <td>-</td>\n",
       "      <td>-</td>\n",
       "      <td>-</td>\n",
       "      <td>-</td>\n",
       "    </tr>\n",
       "    <tr>\n",
       "      <th>3084</th>\n",
       "      <td>2022-09-11</td>\n",
       "      <td>2022-09-17</td>\n",
       "      <td>GLP</td>\n",
       "      <td>3528</td>\n",
       "      <td>R$/13kg</td>\n",
       "      <td>113.250</td>\n",
       "      <td>10.047</td>\n",
       "      <td>84.990</td>\n",
       "      <td>160.000</td>\n",
       "      <td>-</td>\n",
       "      <td>0.089</td>\n",
       "      <td>-</td>\n",
       "      <td>-</td>\n",
       "      <td>-</td>\n",
       "      <td>-</td>\n",
       "      <td>-</td>\n",
       "    </tr>\n",
       "    <tr>\n",
       "      <th>3085</th>\n",
       "      <td>2022-09-11</td>\n",
       "      <td>2022-09-17</td>\n",
       "      <td>GNV</td>\n",
       "      <td>337</td>\n",
       "      <td>R$/m³</td>\n",
       "      <td>5.010</td>\n",
       "      <td>0.566</td>\n",
       "      <td>3.180</td>\n",
       "      <td>6.990</td>\n",
       "      <td>-</td>\n",
       "      <td>0.113</td>\n",
       "      <td>-</td>\n",
       "      <td>-</td>\n",
       "      <td>-</td>\n",
       "      <td>-</td>\n",
       "      <td>-</td>\n",
       "    </tr>\n",
       "    <tr>\n",
       "      <th>3086</th>\n",
       "      <td>2022-09-11</td>\n",
       "      <td>2022-09-17</td>\n",
       "      <td>OLEO DIESEL</td>\n",
       "      <td>2273</td>\n",
       "      <td>R$/l</td>\n",
       "      <td>6.840</td>\n",
       "      <td>0.324</td>\n",
       "      <td>6.220</td>\n",
       "      <td>8.810</td>\n",
       "      <td>-</td>\n",
       "      <td>0.047</td>\n",
       "      <td>-</td>\n",
       "      <td>-</td>\n",
       "      <td>-</td>\n",
       "      <td>-</td>\n",
       "      <td>-</td>\n",
       "    </tr>\n",
       "    <tr>\n",
       "      <th>3087</th>\n",
       "      <td>2022-09-11</td>\n",
       "      <td>2022-09-17</td>\n",
       "      <td>OLEO DIESEL S10</td>\n",
       "      <td>4086</td>\n",
       "      <td>R$/l</td>\n",
       "      <td>6.940</td>\n",
       "      <td>0.319</td>\n",
       "      <td>5.490</td>\n",
       "      <td>8.850</td>\n",
       "      <td>-</td>\n",
       "      <td>0.046</td>\n",
       "      <td>-</td>\n",
       "      <td>-</td>\n",
       "      <td>-</td>\n",
       "      <td>-</td>\n",
       "      <td>-</td>\n",
       "    </tr>\n",
       "  </tbody>\n",
       "</table>\n",
       "<p>3088 rows × 16 columns</p>\n",
       "</div>"
      ],
      "text/plain": [
       "     DATA INICIAL DATA FINAL           PRODUTO  NÚMERO DE POSTOS PESQUISADOS  \\\n",
       "0      2012-12-30 2013-01-05  ETANOL HIDRATADO                          8173   \n",
       "1      2012-12-30 2013-01-05    GASOLINA COMUM                          8672   \n",
       "2      2012-12-30 2013-01-05               GLP                          8052   \n",
       "3      2012-12-30 2013-01-05               GNV                           499   \n",
       "4      2012-12-30 2013-01-05       OLEO DIESEL                          6813   \n",
       "...           ...        ...               ...                           ...   \n",
       "3083   2022-09-11 2022-09-17    GASOLINA COMUM                          4874   \n",
       "3084   2022-09-11 2022-09-17               GLP                          3528   \n",
       "3085   2022-09-11 2022-09-17               GNV                           337   \n",
       "3086   2022-09-11 2022-09-17       OLEO DIESEL                          2273   \n",
       "3087   2022-09-11 2022-09-17   OLEO DIESEL S10                          4086   \n",
       "\n",
       "     UNIDADE DE MEDIDA  PREÇO MÉDIO REVENDA  DESVIO PADRÃO REVENDA  \\\n",
       "0                 R$/l                1.948                  0.244   \n",
       "1                 R$/l                2.758                  0.147   \n",
       "2              R$/13Kg               40.113                  4.017   \n",
       "3                R$/m3                1.757                  0.176   \n",
       "4                 R$/l                2.153                  0.114   \n",
       "...                ...                  ...                    ...   \n",
       "3083              R$/l                4.970                  0.342   \n",
       "3084           R$/13kg              113.250                 10.047   \n",
       "3085             R$/m³                5.010                  0.566   \n",
       "3086              R$/l                6.840                  0.324   \n",
       "3087              R$/l                6.940                  0.319   \n",
       "\n",
       "      PREÇO MÍNIMO REVENDA  PREÇO MÁXIMO REVENDA MARGEM MÉDIA REVENDA  \\\n",
       "0                    1.479                 3.000                0.262   \n",
       "1                    2.269                 3.799                0.385   \n",
       "2                   26.000                62.000               10.362   \n",
       "3                    1.399                 2.599                0.431   \n",
       "4                    1.869                 2.950                0.226   \n",
       "...                    ...                   ...                  ...   \n",
       "3083                 4.170                 6.990                    -   \n",
       "3084                84.990               160.000                    -   \n",
       "3085                 3.180                 6.990                    -   \n",
       "3086                 6.220                 8.810                    -   \n",
       "3087                 5.490                 8.850                    -   \n",
       "\n",
       "      COEF DE VARIAÇÃO REVENDA PREÇO MÉDIO DISTRIBUIÇÃO  \\\n",
       "0                        0.125                    1.686   \n",
       "1                        0.053                    2.373   \n",
       "2                        0.100                   29.751   \n",
       "3                        0.100                    1.326   \n",
       "4                        0.053                    1.927   \n",
       "...                        ...                      ...   \n",
       "3083                     0.069                        -   \n",
       "3084                     0.089                        -   \n",
       "3085                     0.113                        -   \n",
       "3086                     0.047                        -   \n",
       "3087                     0.046                        -   \n",
       "\n",
       "     DESVIO PADRÃO DISTRIBUIÇÃO PREÇO MÍNIMO DISTRIBUIÇÃO  \\\n",
       "0                         0.219                    1.2995   \n",
       "1                          0.11                      2.12   \n",
       "2                         4.514                     16.14   \n",
       "3                         0.146                    0.8354   \n",
       "4                         0.082                    1.7275   \n",
       "...                         ...                       ...   \n",
       "3083                          -                         -   \n",
       "3084                          -                         -   \n",
       "3085                          -                         -   \n",
       "3086                          -                         -   \n",
       "3087                          -                         -   \n",
       "\n",
       "     PREÇO MÁXIMO DISTRIBUIÇÃO COEF DE VARIAÇÃO DISTRIBUIÇÃO  \n",
       "0                       2.3632                          0.13  \n",
       "1                         2.89                         0.046  \n",
       "2                           45                         0.152  \n",
       "3                       1.8217                          0.11  \n",
       "4                         2.57                         0.043  \n",
       "...                        ...                           ...  \n",
       "3083                         -                             -  \n",
       "3084                         -                             -  \n",
       "3085                         -                             -  \n",
       "3086                         -                             -  \n",
       "3087                         -                             -  \n",
       "\n",
       "[3088 rows x 16 columns]"
      ]
     },
     "execution_count": 2,
     "metadata": {},
     "output_type": "execute_result"
    }
   ],
   "source": [
    "combustiveis_brasil = pd.read_excel('dados/semanal.xlsx')\n",
    "combustiveis_brasil"
   ]
  },
  {
   "cell_type": "markdown",
   "id": "a8c02720",
   "metadata": {
    "id": "a8c02720"
   },
   "source": [
    "# **ORGANIZAÇÃO E TRATAMENTO DOS DADOS**"
   ]
  },
  {
   "cell_type": "code",
   "execution_count": 3,
   "id": "f94af364",
   "metadata": {
    "id": "f94af364"
   },
   "outputs": [
    {
     "name": "stdout",
     "output_type": "stream",
     "text": [
      "<class 'pandas.core.frame.DataFrame'>\n",
      "RangeIndex: 3088 entries, 0 to 3087\n",
      "Data columns (total 16 columns):\n",
      " #   Column                         Non-Null Count  Dtype         \n",
      "---  ------                         --------------  -----         \n",
      " 0   DATA INICIAL                   3088 non-null   datetime64[ns]\n",
      " 1   DATA FINAL                     3088 non-null   datetime64[ns]\n",
      " 2   PRODUTO                        3088 non-null   object        \n",
      " 3   NÚMERO DE POSTOS PESQUISADOS   3088 non-null   int64         \n",
      " 4   UNIDADE DE MEDIDA              3088 non-null   object        \n",
      " 5   PREÇO MÉDIO REVENDA            3088 non-null   float64       \n",
      " 6   DESVIO PADRÃO REVENDA          3088 non-null   float64       \n",
      " 7   PREÇO MÍNIMO REVENDA           3088 non-null   float64       \n",
      " 8   PREÇO MÁXIMO REVENDA           3088 non-null   float64       \n",
      " 9   MARGEM MÉDIA REVENDA           3088 non-null   object        \n",
      " 10  COEF DE VARIAÇÃO REVENDA       3088 non-null   float64       \n",
      " 11  PREÇO MÉDIO DISTRIBUIÇÃO       3088 non-null   object        \n",
      " 12  DESVIO PADRÃO DISTRIBUIÇÃO     3088 non-null   object        \n",
      " 13  PREÇO MÍNIMO DISTRIBUIÇÃO      3088 non-null   object        \n",
      " 14  PREÇO MÁXIMO DISTRIBUIÇÃO      3088 non-null   object        \n",
      " 15  COEF DE VARIAÇÃO DISTRIBUIÇÃO  3088 non-null   object        \n",
      "dtypes: datetime64[ns](2), float64(5), int64(1), object(8)\n",
      "memory usage: 386.1+ KB\n"
     ]
    }
   ],
   "source": [
    "combustiveis_brasil.info()"
   ]
  },
  {
   "cell_type": "markdown",
   "id": "3dcc5abb",
   "metadata": {
    "id": "3dcc5abb"
   },
   "source": [
    "## Exclusão das colunas desnecessárias"
   ]
  },
  {
   "cell_type": "code",
   "execution_count": 4,
   "id": "c947c1c5",
   "metadata": {
    "id": "c947c1c5"
   },
   "outputs": [
    {
     "data": {
      "text/html": [
       "<div>\n",
       "<style scoped>\n",
       "    .dataframe tbody tr th:only-of-type {\n",
       "        vertical-align: middle;\n",
       "    }\n",
       "\n",
       "    .dataframe tbody tr th {\n",
       "        vertical-align: top;\n",
       "    }\n",
       "\n",
       "    .dataframe thead th {\n",
       "        text-align: right;\n",
       "    }\n",
       "</style>\n",
       "<table border=\"1\" class=\"dataframe\">\n",
       "  <thead>\n",
       "    <tr style=\"text-align: right;\">\n",
       "      <th></th>\n",
       "      <th>DATA INICIAL</th>\n",
       "      <th>PRODUTO</th>\n",
       "      <th>PREÇO MÉDIO REVENDA</th>\n",
       "      <th>DESVIO PADRÃO REVENDA</th>\n",
       "      <th>PREÇO MÍNIMO REVENDA</th>\n",
       "      <th>PREÇO MÁXIMO REVENDA</th>\n",
       "    </tr>\n",
       "  </thead>\n",
       "  <tbody>\n",
       "    <tr>\n",
       "      <th>0</th>\n",
       "      <td>2012-12-30</td>\n",
       "      <td>ETANOL HIDRATADO</td>\n",
       "      <td>1.948</td>\n",
       "      <td>0.244</td>\n",
       "      <td>1.479</td>\n",
       "      <td>3.000</td>\n",
       "    </tr>\n",
       "    <tr>\n",
       "      <th>1</th>\n",
       "      <td>2012-12-30</td>\n",
       "      <td>GASOLINA COMUM</td>\n",
       "      <td>2.758</td>\n",
       "      <td>0.147</td>\n",
       "      <td>2.269</td>\n",
       "      <td>3.799</td>\n",
       "    </tr>\n",
       "    <tr>\n",
       "      <th>2</th>\n",
       "      <td>2012-12-30</td>\n",
       "      <td>GLP</td>\n",
       "      <td>40.113</td>\n",
       "      <td>4.017</td>\n",
       "      <td>26.000</td>\n",
       "      <td>62.000</td>\n",
       "    </tr>\n",
       "    <tr>\n",
       "      <th>3</th>\n",
       "      <td>2012-12-30</td>\n",
       "      <td>GNV</td>\n",
       "      <td>1.757</td>\n",
       "      <td>0.176</td>\n",
       "      <td>1.399</td>\n",
       "      <td>2.599</td>\n",
       "    </tr>\n",
       "    <tr>\n",
       "      <th>4</th>\n",
       "      <td>2012-12-30</td>\n",
       "      <td>OLEO DIESEL</td>\n",
       "      <td>2.153</td>\n",
       "      <td>0.114</td>\n",
       "      <td>1.869</td>\n",
       "      <td>2.950</td>\n",
       "    </tr>\n",
       "    <tr>\n",
       "      <th>...</th>\n",
       "      <td>...</td>\n",
       "      <td>...</td>\n",
       "      <td>...</td>\n",
       "      <td>...</td>\n",
       "      <td>...</td>\n",
       "      <td>...</td>\n",
       "    </tr>\n",
       "    <tr>\n",
       "      <th>3083</th>\n",
       "      <td>2022-09-11</td>\n",
       "      <td>GASOLINA COMUM</td>\n",
       "      <td>4.970</td>\n",
       "      <td>0.342</td>\n",
       "      <td>4.170</td>\n",
       "      <td>6.990</td>\n",
       "    </tr>\n",
       "    <tr>\n",
       "      <th>3084</th>\n",
       "      <td>2022-09-11</td>\n",
       "      <td>GLP</td>\n",
       "      <td>113.250</td>\n",
       "      <td>10.047</td>\n",
       "      <td>84.990</td>\n",
       "      <td>160.000</td>\n",
       "    </tr>\n",
       "    <tr>\n",
       "      <th>3085</th>\n",
       "      <td>2022-09-11</td>\n",
       "      <td>GNV</td>\n",
       "      <td>5.010</td>\n",
       "      <td>0.566</td>\n",
       "      <td>3.180</td>\n",
       "      <td>6.990</td>\n",
       "    </tr>\n",
       "    <tr>\n",
       "      <th>3086</th>\n",
       "      <td>2022-09-11</td>\n",
       "      <td>OLEO DIESEL</td>\n",
       "      <td>6.840</td>\n",
       "      <td>0.324</td>\n",
       "      <td>6.220</td>\n",
       "      <td>8.810</td>\n",
       "    </tr>\n",
       "    <tr>\n",
       "      <th>3087</th>\n",
       "      <td>2022-09-11</td>\n",
       "      <td>OLEO DIESEL S10</td>\n",
       "      <td>6.940</td>\n",
       "      <td>0.319</td>\n",
       "      <td>5.490</td>\n",
       "      <td>8.850</td>\n",
       "    </tr>\n",
       "  </tbody>\n",
       "</table>\n",
       "<p>3088 rows × 6 columns</p>\n",
       "</div>"
      ],
      "text/plain": [
       "     DATA INICIAL           PRODUTO  PREÇO MÉDIO REVENDA  \\\n",
       "0      2012-12-30  ETANOL HIDRATADO                1.948   \n",
       "1      2012-12-30    GASOLINA COMUM                2.758   \n",
       "2      2012-12-30               GLP               40.113   \n",
       "3      2012-12-30               GNV                1.757   \n",
       "4      2012-12-30       OLEO DIESEL                2.153   \n",
       "...           ...               ...                  ...   \n",
       "3083   2022-09-11    GASOLINA COMUM                4.970   \n",
       "3084   2022-09-11               GLP              113.250   \n",
       "3085   2022-09-11               GNV                5.010   \n",
       "3086   2022-09-11       OLEO DIESEL                6.840   \n",
       "3087   2022-09-11   OLEO DIESEL S10                6.940   \n",
       "\n",
       "      DESVIO PADRÃO REVENDA  PREÇO MÍNIMO REVENDA  PREÇO MÁXIMO REVENDA  \n",
       "0                     0.244                 1.479                 3.000  \n",
       "1                     0.147                 2.269                 3.799  \n",
       "2                     4.017                26.000                62.000  \n",
       "3                     0.176                 1.399                 2.599  \n",
       "4                     0.114                 1.869                 2.950  \n",
       "...                     ...                   ...                   ...  \n",
       "3083                  0.342                 4.170                 6.990  \n",
       "3084                 10.047                84.990               160.000  \n",
       "3085                  0.566                 3.180                 6.990  \n",
       "3086                  0.324                 6.220                 8.810  \n",
       "3087                  0.319                 5.490                 8.850  \n",
       "\n",
       "[3088 rows x 6 columns]"
      ]
     },
     "execution_count": 4,
     "metadata": {},
     "output_type": "execute_result"
    }
   ],
   "source": [
    "# Colunas de número de postos pesquisados e de preços de distribuição\n",
    "combustiveis_brasil.drop(combustiveis_brasil.columns[9:16], axis=1, inplace=True)\n",
    "combustiveis_brasil.drop(combustiveis_brasil.columns[3:5], axis=1, inplace=True)\n",
    "combustiveis_brasil.drop(combustiveis_brasil.columns[[1]], axis=1, inplace=True)\n",
    "combustiveis_brasil"
   ]
  },
  {
   "cell_type": "markdown",
   "id": "ebf3dc49",
   "metadata": {
    "id": "ebf3dc49"
   },
   "source": [
    "## Renomeação das colunas"
   ]
  },
  {
   "cell_type": "code",
   "execution_count": 5,
   "id": "1UmZeRDgnor8",
   "metadata": {
    "id": "1UmZeRDgnor8"
   },
   "outputs": [
    {
     "name": "stdout",
     "output_type": "stream",
     "text": [
      "Requirement already satisfied: unidecode in c:\\users\\usuario\\anaconda3\\lib\\site-packages (1.2.0)\n",
      "Note: you may need to restart the kernel to use updated packages.\n"
     ]
    }
   ],
   "source": [
    "pip install unidecode"
   ]
  },
  {
   "cell_type": "code",
   "execution_count": 6,
   "id": "SjjUOaxoT57y",
   "metadata": {
    "id": "SjjUOaxoT57y"
   },
   "outputs": [],
   "source": [
    "import re\n",
    "from unidecode import unidecode"
   ]
  },
  {
   "cell_type": "code",
   "execution_count": 7,
   "id": "3253fbda",
   "metadata": {
    "id": "3253fbda"
   },
   "outputs": [],
   "source": [
    "# Por boas práticas e para evitar futuros problemas, nomes de colunas não devem ter\n",
    "# letras maiúsculas e nem caracteres especiais.\n",
    "\n",
    "def renomeia_colunas(nome_coluna):\n",
    "    \"\"\"Retira os acentos, substitui os espaços em branco por underline e \n",
    "    deixa todas as letras minúsculas\"\"\"\n",
    "    return unidecode(nome_coluna).replace(' ','_').lower()"
   ]
  },
  {
   "cell_type": "code",
   "execution_count": 8,
   "id": "ff426e8b",
   "metadata": {
    "id": "ff426e8b"
   },
   "outputs": [],
   "source": [
    "# Renomeia as colunas de forma padronizada\n",
    "combustiveis_brasil.columns = [renomeia_colunas(coluna) for coluna in combustiveis_brasil.columns]\n",
    "\n",
    "# Renomeia a coluna das datas\n",
    "combustiveis_brasil.rename(columns={'data_inicial': 'data'}, inplace=True)"
   ]
  },
  {
   "cell_type": "markdown",
   "id": "7c692934",
   "metadata": {
    "id": "7c692934"
   },
   "source": [
    "## Exclusão dos registros dos outros combustíveis"
   ]
  },
  {
   "cell_type": "code",
   "execution_count": 9,
   "id": "4a5dbd23",
   "metadata": {
    "id": "4a5dbd23"
   },
   "outputs": [
    {
     "data": {
      "text/html": [
       "<div>\n",
       "<style scoped>\n",
       "    .dataframe tbody tr th:only-of-type {\n",
       "        vertical-align: middle;\n",
       "    }\n",
       "\n",
       "    .dataframe tbody tr th {\n",
       "        vertical-align: top;\n",
       "    }\n",
       "\n",
       "    .dataframe thead th {\n",
       "        text-align: right;\n",
       "    }\n",
       "</style>\n",
       "<table border=\"1\" class=\"dataframe\">\n",
       "  <thead>\n",
       "    <tr style=\"text-align: right;\">\n",
       "      <th></th>\n",
       "      <th>data</th>\n",
       "      <th>produto</th>\n",
       "      <th>preco_medio_revenda</th>\n",
       "      <th>desvio_padrao_revenda</th>\n",
       "      <th>preco_minimo_revenda</th>\n",
       "      <th>preco_maximo_revenda</th>\n",
       "    </tr>\n",
       "  </thead>\n",
       "  <tbody>\n",
       "    <tr>\n",
       "      <th>0</th>\n",
       "      <td>2012-12-30</td>\n",
       "      <td>GASOLINA COMUM</td>\n",
       "      <td>2.758</td>\n",
       "      <td>0.147</td>\n",
       "      <td>2.269</td>\n",
       "      <td>3.799</td>\n",
       "    </tr>\n",
       "    <tr>\n",
       "      <th>1</th>\n",
       "      <td>2013-01-06</td>\n",
       "      <td>GASOLINA COMUM</td>\n",
       "      <td>2.764</td>\n",
       "      <td>0.146</td>\n",
       "      <td>2.269</td>\n",
       "      <td>3.799</td>\n",
       "    </tr>\n",
       "    <tr>\n",
       "      <th>2</th>\n",
       "      <td>2013-01-13</td>\n",
       "      <td>GASOLINA COMUM</td>\n",
       "      <td>2.758</td>\n",
       "      <td>0.148</td>\n",
       "      <td>2.269</td>\n",
       "      <td>3.799</td>\n",
       "    </tr>\n",
       "    <tr>\n",
       "      <th>3</th>\n",
       "      <td>2013-01-20</td>\n",
       "      <td>GASOLINA COMUM</td>\n",
       "      <td>2.763</td>\n",
       "      <td>0.146</td>\n",
       "      <td>2.269</td>\n",
       "      <td>3.799</td>\n",
       "    </tr>\n",
       "    <tr>\n",
       "      <th>4</th>\n",
       "      <td>2013-01-27</td>\n",
       "      <td>GASOLINA COMUM</td>\n",
       "      <td>2.772</td>\n",
       "      <td>0.150</td>\n",
       "      <td>2.229</td>\n",
       "      <td>3.899</td>\n",
       "    </tr>\n",
       "    <tr>\n",
       "      <th>...</th>\n",
       "      <td>...</td>\n",
       "      <td>...</td>\n",
       "      <td>...</td>\n",
       "      <td>...</td>\n",
       "      <td>...</td>\n",
       "      <td>...</td>\n",
       "    </tr>\n",
       "    <tr>\n",
       "      <th>493</th>\n",
       "      <td>2022-08-14</td>\n",
       "      <td>GASOLINA COMUM</td>\n",
       "      <td>5.400</td>\n",
       "      <td>0.327</td>\n",
       "      <td>4.500</td>\n",
       "      <td>8.750</td>\n",
       "    </tr>\n",
       "    <tr>\n",
       "      <th>494</th>\n",
       "      <td>2022-08-21</td>\n",
       "      <td>GASOLINA COMUM</td>\n",
       "      <td>5.250</td>\n",
       "      <td>0.328</td>\n",
       "      <td>4.190</td>\n",
       "      <td>7.000</td>\n",
       "    </tr>\n",
       "    <tr>\n",
       "      <th>495</th>\n",
       "      <td>2022-08-28</td>\n",
       "      <td>GASOLINA COMUM</td>\n",
       "      <td>5.170</td>\n",
       "      <td>0.335</td>\n",
       "      <td>4.130</td>\n",
       "      <td>7.000</td>\n",
       "    </tr>\n",
       "    <tr>\n",
       "      <th>496</th>\n",
       "      <td>2022-09-04</td>\n",
       "      <td>GASOLINA COMUM</td>\n",
       "      <td>5.030</td>\n",
       "      <td>0.352</td>\n",
       "      <td>4.350</td>\n",
       "      <td>7.090</td>\n",
       "    </tr>\n",
       "    <tr>\n",
       "      <th>497</th>\n",
       "      <td>2022-09-11</td>\n",
       "      <td>GASOLINA COMUM</td>\n",
       "      <td>4.970</td>\n",
       "      <td>0.342</td>\n",
       "      <td>4.170</td>\n",
       "      <td>6.990</td>\n",
       "    </tr>\n",
       "  </tbody>\n",
       "</table>\n",
       "<p>498 rows × 6 columns</p>\n",
       "</div>"
      ],
      "text/plain": [
       "          data         produto  preco_medio_revenda  desvio_padrao_revenda  \\\n",
       "0   2012-12-30  GASOLINA COMUM                2.758                  0.147   \n",
       "1   2013-01-06  GASOLINA COMUM                2.764                  0.146   \n",
       "2   2013-01-13  GASOLINA COMUM                2.758                  0.148   \n",
       "3   2013-01-20  GASOLINA COMUM                2.763                  0.146   \n",
       "4   2013-01-27  GASOLINA COMUM                2.772                  0.150   \n",
       "..         ...             ...                  ...                    ...   \n",
       "493 2022-08-14  GASOLINA COMUM                5.400                  0.327   \n",
       "494 2022-08-21  GASOLINA COMUM                5.250                  0.328   \n",
       "495 2022-08-28  GASOLINA COMUM                5.170                  0.335   \n",
       "496 2022-09-04  GASOLINA COMUM                5.030                  0.352   \n",
       "497 2022-09-11  GASOLINA COMUM                4.970                  0.342   \n",
       "\n",
       "     preco_minimo_revenda  preco_maximo_revenda  \n",
       "0                   2.269                 3.799  \n",
       "1                   2.269                 3.799  \n",
       "2                   2.269                 3.799  \n",
       "3                   2.269                 3.799  \n",
       "4                   2.229                 3.899  \n",
       "..                    ...                   ...  \n",
       "493                 4.500                 8.750  \n",
       "494                 4.190                 7.000  \n",
       "495                 4.130                 7.000  \n",
       "496                 4.350                 7.090  \n",
       "497                 4.170                 6.990  \n",
       "\n",
       "[498 rows x 6 columns]"
      ]
     },
     "execution_count": 9,
     "metadata": {},
     "output_type": "execute_result"
    }
   ],
   "source": [
    "# Remove todos os registros dos outros combustíveis utilizando os índices\n",
    "gasolina_brasil = combustiveis_brasil.drop(combustiveis_brasil.index[combustiveis_brasil.loc[\n",
    "    combustiveis_brasil.produto != 'GASOLINA COMUM'].index]).sort_values(by='data').reset_index(drop=True)\n",
    "\n",
    "gasolina_brasil"
   ]
  },
  {
   "cell_type": "markdown",
   "id": "73b0e8e6",
   "metadata": {
    "id": "73b0e8e6"
   },
   "source": [
    "## Valores missing (NaN)"
   ]
  },
  {
   "cell_type": "code",
   "execution_count": 10,
   "id": "979d105b",
   "metadata": {
    "id": "979d105b"
   },
   "outputs": [
    {
     "data": {
      "text/plain": [
       "data                     0\n",
       "produto                  0\n",
       "preco_medio_revenda      0\n",
       "desvio_padrao_revenda    0\n",
       "preco_minimo_revenda     0\n",
       "preco_maximo_revenda     0\n",
       "dtype: int64"
      ]
     },
     "execution_count": 10,
     "metadata": {},
     "output_type": "execute_result"
    }
   ],
   "source": [
    "combustiveis_brasil.isnull().sum()"
   ]
  },
  {
   "cell_type": "markdown",
   "id": "10019388",
   "metadata": {
    "id": "10019388"
   },
   "source": [
    "## Tipagem dos dados"
   ]
  },
  {
   "cell_type": "code",
   "execution_count": 11,
   "id": "04241744",
   "metadata": {
    "id": "04241744"
   },
   "outputs": [
    {
     "data": {
      "text/plain": [
       "data                     datetime64[ns]\n",
       "produto                          object\n",
       "preco_medio_revenda             float64\n",
       "desvio_padrao_revenda           float64\n",
       "preco_minimo_revenda            float64\n",
       "preco_maximo_revenda            float64\n",
       "dtype: object"
      ]
     },
     "execution_count": 11,
     "metadata": {},
     "output_type": "execute_result"
    }
   ],
   "source": [
    "combustiveis_brasil.dtypes"
   ]
  },
  {
   "cell_type": "markdown",
   "id": "505794ee",
   "metadata": {
    "id": "505794ee"
   },
   "source": [
    "# **ANÁLISES ESTATÍSTICAS**"
   ]
  },
  {
   "cell_type": "code",
   "execution_count": 12,
   "id": "cb8b5def",
   "metadata": {
    "id": "cb8b5def"
   },
   "outputs": [
    {
     "data": {
      "text/html": [
       "<div>\n",
       "<style scoped>\n",
       "    .dataframe tbody tr th:only-of-type {\n",
       "        vertical-align: middle;\n",
       "    }\n",
       "\n",
       "    .dataframe tbody tr th {\n",
       "        vertical-align: top;\n",
       "    }\n",
       "\n",
       "    .dataframe thead th {\n",
       "        text-align: right;\n",
       "    }\n",
       "</style>\n",
       "<table border=\"1\" class=\"dataframe\">\n",
       "  <thead>\n",
       "    <tr style=\"text-align: right;\">\n",
       "      <th></th>\n",
       "      <th>preco_medio_revenda</th>\n",
       "      <th>desvio_padrao_revenda</th>\n",
       "      <th>preco_minimo_revenda</th>\n",
       "      <th>preco_maximo_revenda</th>\n",
       "    </tr>\n",
       "  </thead>\n",
       "  <tbody>\n",
       "    <tr>\n",
       "      <th>count</th>\n",
       "      <td>498.000000</td>\n",
       "      <td>498.000000</td>\n",
       "      <td>498.000000</td>\n",
       "      <td>498.000000</td>\n",
       "    </tr>\n",
       "    <tr>\n",
       "      <th>mean</th>\n",
       "      <td>4.131655</td>\n",
       "      <td>0.257275</td>\n",
       "      <td>3.423285</td>\n",
       "      <td>5.376088</td>\n",
       "    </tr>\n",
       "    <tr>\n",
       "      <th>std</th>\n",
       "      <td>1.121643</td>\n",
       "      <td>0.073923</td>\n",
       "      <td>0.926271</td>\n",
       "      <td>1.240785</td>\n",
       "    </tr>\n",
       "    <tr>\n",
       "      <th>min</th>\n",
       "      <td>2.758000</td>\n",
       "      <td>0.145000</td>\n",
       "      <td>2.100000</td>\n",
       "      <td>3.699000</td>\n",
       "    </tr>\n",
       "    <tr>\n",
       "      <th>25%</th>\n",
       "      <td>3.299250</td>\n",
       "      <td>0.195000</td>\n",
       "      <td>2.749000</td>\n",
       "      <td>4.519000</td>\n",
       "    </tr>\n",
       "    <tr>\n",
       "      <th>50%</th>\n",
       "      <td>3.875000</td>\n",
       "      <td>0.262000</td>\n",
       "      <td>3.179000</td>\n",
       "      <td>4.999000</td>\n",
       "    </tr>\n",
       "    <tr>\n",
       "      <th>75%</th>\n",
       "      <td>4.512500</td>\n",
       "      <td>0.306000</td>\n",
       "      <td>3.699000</td>\n",
       "      <td>5.859000</td>\n",
       "    </tr>\n",
       "    <tr>\n",
       "      <th>max</th>\n",
       "      <td>7.390000</td>\n",
       "      <td>0.535000</td>\n",
       "      <td>6.290000</td>\n",
       "      <td>8.999000</td>\n",
       "    </tr>\n",
       "  </tbody>\n",
       "</table>\n",
       "</div>"
      ],
      "text/plain": [
       "       preco_medio_revenda  desvio_padrao_revenda  preco_minimo_revenda  \\\n",
       "count           498.000000             498.000000            498.000000   \n",
       "mean              4.131655               0.257275              3.423285   \n",
       "std               1.121643               0.073923              0.926271   \n",
       "min               2.758000               0.145000              2.100000   \n",
       "25%               3.299250               0.195000              2.749000   \n",
       "50%               3.875000               0.262000              3.179000   \n",
       "75%               4.512500               0.306000              3.699000   \n",
       "max               7.390000               0.535000              6.290000   \n",
       "\n",
       "       preco_maximo_revenda  \n",
       "count            498.000000  \n",
       "mean               5.376088  \n",
       "std                1.240785  \n",
       "min                3.699000  \n",
       "25%                4.519000  \n",
       "50%                4.999000  \n",
       "75%                5.859000  \n",
       "max                8.999000  "
      ]
     },
     "execution_count": 12,
     "metadata": {},
     "output_type": "execute_result"
    }
   ],
   "source": [
    "gasolina_brasil.describe()"
   ]
  },
  {
   "cell_type": "markdown",
   "id": "64c53b9b",
   "metadata": {
    "id": "64c53b9b"
   },
   "source": [
    "## Análise de outliers"
   ]
  },
  {
   "cell_type": "code",
   "execution_count": 13,
   "id": "e0936230",
   "metadata": {
    "id": "e0936230"
   },
   "outputs": [
    {
     "data": {
      "image/png": "[encoded data removed]",
      "text/plain": [
       "<Figure size 1440x720 with 1 Axes>"
      ]
     },
     "metadata": {
      "needs_background": "light"
     },
     "output_type": "display_data"
    }
   ],
   "source": [
    "# Tamanho do gráfico em polegadas\n",
    "plt.figure(figsize =(20, 10))\n",
    "\n",
    "# BoxPlot dos combustíveis em relação aos seus preços\n",
    "boxplot = sns.boxplot( x=\"produto\", y =\"preco_medio_revenda\",data=gasolina_brasil, linewidth=5, color='r')\n",
    "\n",
    "# Gráfico de disperção\n",
    "dispersao = sns.stripplot(x=\"produto\", y =\"preco_medio_revenda\", hue=\"produto\", data=gasolina_brasil)\n",
    "\n",
    "# Adicionando Título ao gráfico\n",
    "plt.title(\"BoxPlot dos preços da gasolina comum no Brasil\", loc=\"center\", fontsize=18)\n",
    "plt.xlabel(\"Tipo de combustível\")\n",
    "plt.ylabel(\"Preço em R$\")\n",
    "\n",
    "plt.show()"
   ]
  },
  {
   "cell_type": "markdown",
   "id": "305b45a3",
   "metadata": {
    "id": "305b45a3"
   },
   "source": [
    "--> Apesar de existirem diversos dados acima do limite máximo (outliers), não os removerei pois são preços reais e não dados incorretos ou que se afastam muito da normalidade."
   ]
  },
  {
   "cell_type": "markdown",
   "id": "7adc8c97",
   "metadata": {
    "id": "7adc8c97"
   },
   "source": [
    "# **Exploração**"
   ]
  },
  {
   "cell_type": "markdown",
   "id": "f84735e3",
   "metadata": {
    "id": "f84735e3"
   },
   "source": [
    "### Preços médios de revenda"
   ]
  },
  {
   "cell_type": "code",
   "execution_count": 14,
   "id": "217555de",
   "metadata": {
    "id": "217555de"
   },
   "outputs": [],
   "source": [
    "# Atribui o mês e os preços em variáveis para facilitar na utilização\n",
    "\n",
    "datas = combustiveis_brasil.data.unique()\n",
    "datas.sort()\n",
    "\n",
    "precos_gasolina = gasolina_brasil.preco_medio_revenda"
   ]
  },
  {
   "cell_type": "code",
   "execution_count": 15,
   "id": "957d32df",
   "metadata": {
    "id": "957d32df"
   },
   "outputs": [
    {
     "data": {
      "image/png": "[encoded data removed]",
      "text/plain": [
       "<Figure size 1440x720 with 1 Axes>"
      ]
     },
     "metadata": {
      "needs_background": "light"
     },
     "output_type": "display_data"
    }
   ],
   "source": [
    "plt.subplots(figsize=(20,10))\n",
    "\n",
    "plt.plot(datas, precos_gasolina, c='r', lw=3, label='Gasolina Comum')\n",
    "\n",
    "plt.title('Preço(R$/L) da gasolina de acordo com a data', fontsize=22)\n",
    "plt.xlabel('Data', fontsize=18)\n",
    "plt.ylabel('Preço(R$/L)', fontsize=18)\n",
    "plt.show()"
   ]
  },
  {
   "cell_type": "markdown",
   "id": "7666ed18",
   "metadata": {
    "id": "7666ed18"
   },
   "source": [
    "### Aumento no preço médio de revenda de acordo com a data"
   ]
  },
  {
   "cell_type": "code",
   "execution_count": 16,
   "id": "eec16547",
   "metadata": {
    "id": "eec16547"
   },
   "outputs": [],
   "source": [
    "# Calcula o aumento no preço médio de revenda da gasolina por semana;\n",
    "# Aumento = preço no dia atual - preço no dia anterior\n",
    "\n",
    "aumento_gasolina = list(map(lambda x: 0 if (x == 0) else precos_gasolina[x] - precos_gasolina[x-1], \n",
    "                          np.arange(len(datas))))"
   ]
  },
  {
   "cell_type": "code",
   "execution_count": 17,
   "id": "89af2e4b",
   "metadata": {
    "id": "89af2e4b"
   },
   "outputs": [
    {
     "data": {
      "image/png": "[encoded data removed]",
      "text/plain": [
       "<Figure size 1440x720 with 1 Axes>"
      ]
     },
     "metadata": {
      "needs_background": "light"
     },
     "output_type": "display_data"
    }
   ],
   "source": [
    "plt.subplots(figsize=(20,10))\n",
    "\n",
    "plt.plot(datas, aumento_gasolina, c='r', lw=2, label='Gasolina Comum')\n",
    "\n",
    "plt.title('Aumento no preço médio de revenda(R$) da gasolina de acordo com a data', fontsize=22)\n",
    "plt.xlabel('Data', fontsize=18)\n",
    "plt.ylabel('Aumento no preço(R$)', fontsize=18)\n",
    "plt.show()"
   ]
  },
  {
   "cell_type": "markdown",
   "id": "7ed599a7",
   "metadata": {
    "id": "7ed599a7"
   },
   "source": [
    "### Taxa média de crescimento semanal no preço médio de revenda"
   ]
  },
  {
   "cell_type": "code",
   "execution_count": 18,
   "id": "751e3641",
   "metadata": {
    "id": "751e3641"
   },
   "outputs": [],
   "source": [
    "def taxa_media_crescimento(dados, variavel, data_inicio=None, data_fim=None):\n",
    "    \"\"\"Calcula e retorna a taxa média do crescimento semanal nos preços do combustível em porcentagem\"\"\"\n",
    "    # Se data_inicio for None, define com a primeira data disponível\n",
    "    if data_inicio == None:\n",
    "        data_inicio = dados.data.loc[dados[variavel] > 0].min()\n",
    "    else:\n",
    "        data_inicio = pd.to_datetime(data_inicio)\n",
    "    # Se data_fim for None, define com a última data disponível    \n",
    "    if data_fim == None:\n",
    "        data_fim = dados.data.iloc[-1]\n",
    "    else:\n",
    "        data_fim = pd.to_datetime(data_fim)\n",
    "        \n",
    "    # Define os valores do presente e passado\n",
    "    passado = dados.loc[dados.data == data_inicio, variavel].values[0]\n",
    "    presente = dados.loc[dados.data == data_fim, variavel].values[0]\n",
    "    \n",
    "    # Define o número de pontos no tempo que vamos avaliar\n",
    "    n = (data_fim - data_inicio).days / 7\n",
    "    \n",
    "    # Calcular a taxa\n",
    "    taxa = (presente/passado) ** (1/n) - 1\n",
    "    \n",
    "    return taxa * 100"
   ]
  },
  {
   "cell_type": "code",
   "execution_count": 19,
   "id": "f2792d06",
   "metadata": {
    "id": "f2792d06"
   },
   "outputs": [
    {
     "name": "stdout",
     "output_type": "stream",
     "text": [
      "A taxa de crescimento semanal média no preço da gasolina comum no Brasil é de 0.12%\n"
     ]
    }
   ],
   "source": [
    "crescimento_gasolina = taxa_media_crescimento(gasolina_brasil, 'preco_medio_revenda')\n",
    "\n",
    "print(f'A taxa de crescimento semanal média no preço da gasolina comum no Brasil é de {crescimento_gasolina:.2f}%')"
   ]
  },
  {
   "cell_type": "markdown",
   "id": "d2ba0db7",
   "metadata": {
    "id": "d2ba0db7"
   },
   "source": [
    "### Taxa de crescimento semanal no preço médio de revenda da gasolina comum"
   ]
  },
  {
   "cell_type": "code",
   "execution_count": 20,
   "id": "e19acfdb",
   "metadata": {
    "id": "e19acfdb"
   },
   "outputs": [],
   "source": [
    "def taxa_crescimento_semanal(dados, variavel, data_inicio=None):\n",
    "    \"\"\"Calcula e retorna as taxas de crescimento semanais nos preços do combustível em porcentagem\"\"\"\n",
    "    # Se data_inicio for None, define com a primeira data disponível\n",
    "    if data_inicio == None:\n",
    "        data_inicio = dados.data.loc[dados[variavel] > 0].min()\n",
    "    else:\n",
    "        data_inicio = pd.to_datetime(data_inicio)\n",
    "    \n",
    "    data_fim = dados.data.max() \n",
    "    \n",
    "    # Define o número de pontos no tempo que vamos avaliar\n",
    "    n = len(dados.data.unique())\n",
    "    \n",
    "    # Taxa calculada de uma semana para a outra\n",
    "    taxas = list(map(\n",
    "        lambda x: (dados[variavel].reset_index(drop=True).loc[x] - dados[variavel].reset_index(drop=True).loc[x-1]) \n",
    "        / dados[variavel].reset_index(drop=True).loc[x-1],\n",
    "        range(1, n)\n",
    "    ))\n",
    "\n",
    "    return np.array(taxas) * 100"
   ]
  },
  {
   "cell_type": "code",
   "execution_count": 21,
   "id": "71795e00",
   "metadata": {
    "id": "71795e00"
   },
   "outputs": [],
   "source": [
    "# Calcula e retorna em um array as taxas de crescimento semanais nos preços de cada combustível\n",
    "\n",
    "crescimento_gasolina = taxa_crescimento_semanal(gasolina_brasil, 'preco_medio_revenda')"
   ]
  },
  {
   "cell_type": "code",
   "execution_count": 22,
   "id": "9abae0e9",
   "metadata": {
    "id": "9abae0e9"
   },
   "outputs": [
    {
     "data": {
      "image/png": "[encoded data removed]",
      "text/plain": [
       "<Figure size 1440x720 with 1 Axes>"
      ]
     },
     "metadata": {
      "needs_background": "light"
     },
     "output_type": "display_data"
    }
   ],
   "source": [
    "# Grafícos das taxas de crescimento semanais dos preços de cada combustível\n",
    "\n",
    "plt.subplots(figsize=(20,10))\n",
    "\n",
    "plt.plot(datas[1:], crescimento_gasolina, c='r', lw=2, label='Gasolina Comum')\n",
    "plt.title('Taxas de crescimento semanais(%) nos preços(R$) da gasolina comum no Brasil de acordo com a data', \n",
    "          fontsize=22)\n",
    "plt.xlabel('Data', fontsize=18)\n",
    "plt.ylabel('Taxa de crescimento(%)', fontsize=18)\n",
    "plt.show()"
   ]
  },
  {
   "cell_type": "markdown",
   "id": "xbGypRF18Jls",
   "metadata": {
    "id": "xbGypRF18Jls"
   },
   "source": [
    "# **PREDIÇÕES**"
   ]
  },
  {
   "cell_type": "code",
   "execution_count": 23,
   "id": "cc920477",
   "metadata": {},
   "outputs": [
    {
     "name": "stdout",
     "output_type": "stream",
     "text": [
      "Requirement already satisfied: xgboost in c:\\users\\usuario\\anaconda3\\lib\\site-packages (1.6.2)\n",
      "Requirement already satisfied: numpy in c:\\users\\usuario\\anaconda3\\lib\\site-packages (from xgboost) (1.21.5)\n",
      "Requirement already satisfied: scipy in c:\\users\\usuario\\anaconda3\\lib\\site-packages (from xgboost) (1.7.3)\n",
      "Note: you may need to restart the kernel to use updated packages.\n"
     ]
    }
   ],
   "source": [
    "pip install xgboost"
   ]
  },
  {
   "cell_type": "code",
   "execution_count": 24,
   "id": "czl_B_wUDR0n",
   "metadata": {
    "id": "czl_B_wUDR0n"
   },
   "outputs": [],
   "source": [
    "from sklearn.model_selection import train_test_split, GridSearchCV\n",
    "from xgboost import XGBRegressor\n",
    "from sklearn.metrics import mean_squared_error, mean_absolute_error, r2_score"
   ]
  },
  {
   "cell_type": "markdown",
   "id": "273QYc23D3n7",
   "metadata": {
    "id": "273QYc23D3n7"
   },
   "source": [
    "## Preparação dos dados"
   ]
  },
  {
   "cell_type": "code",
   "execution_count": 25,
   "id": "AZMQOHOX9row",
   "metadata": {
    "id": "AZMQOHOX9row"
   },
   "outputs": [
    {
     "data": {
      "text/html": [
       "<div>\n",
       "<style scoped>\n",
       "    .dataframe tbody tr th:only-of-type {\n",
       "        vertical-align: middle;\n",
       "    }\n",
       "\n",
       "    .dataframe tbody tr th {\n",
       "        vertical-align: top;\n",
       "    }\n",
       "\n",
       "    .dataframe thead th {\n",
       "        text-align: right;\n",
       "    }\n",
       "</style>\n",
       "<table border=\"1\" class=\"dataframe\">\n",
       "  <thead>\n",
       "    <tr style=\"text-align: right;\">\n",
       "      <th></th>\n",
       "      <th>data</th>\n",
       "      <th>ano</th>\n",
       "      <th>mes</th>\n",
       "      <th>produto</th>\n",
       "      <th>preco_medio_revenda</th>\n",
       "      <th>desvio_padrao_revenda</th>\n",
       "      <th>preco_minimo_revenda</th>\n",
       "      <th>preco_maximo_revenda</th>\n",
       "    </tr>\n",
       "  </thead>\n",
       "  <tbody>\n",
       "    <tr>\n",
       "      <th>0</th>\n",
       "      <td>2012-12-30</td>\n",
       "      <td>2012</td>\n",
       "      <td>12</td>\n",
       "      <td>GASOLINA COMUM</td>\n",
       "      <td>2.758</td>\n",
       "      <td>0.147</td>\n",
       "      <td>2.269</td>\n",
       "      <td>3.799</td>\n",
       "    </tr>\n",
       "    <tr>\n",
       "      <th>1</th>\n",
       "      <td>2013-01-06</td>\n",
       "      <td>2013</td>\n",
       "      <td>1</td>\n",
       "      <td>GASOLINA COMUM</td>\n",
       "      <td>2.764</td>\n",
       "      <td>0.146</td>\n",
       "      <td>2.269</td>\n",
       "      <td>3.799</td>\n",
       "    </tr>\n",
       "    <tr>\n",
       "      <th>2</th>\n",
       "      <td>2013-01-13</td>\n",
       "      <td>2013</td>\n",
       "      <td>1</td>\n",
       "      <td>GASOLINA COMUM</td>\n",
       "      <td>2.758</td>\n",
       "      <td>0.148</td>\n",
       "      <td>2.269</td>\n",
       "      <td>3.799</td>\n",
       "    </tr>\n",
       "    <tr>\n",
       "      <th>3</th>\n",
       "      <td>2013-01-20</td>\n",
       "      <td>2013</td>\n",
       "      <td>1</td>\n",
       "      <td>GASOLINA COMUM</td>\n",
       "      <td>2.763</td>\n",
       "      <td>0.146</td>\n",
       "      <td>2.269</td>\n",
       "      <td>3.799</td>\n",
       "    </tr>\n",
       "    <tr>\n",
       "      <th>4</th>\n",
       "      <td>2013-01-27</td>\n",
       "      <td>2013</td>\n",
       "      <td>1</td>\n",
       "      <td>GASOLINA COMUM</td>\n",
       "      <td>2.772</td>\n",
       "      <td>0.150</td>\n",
       "      <td>2.229</td>\n",
       "      <td>3.899</td>\n",
       "    </tr>\n",
       "    <tr>\n",
       "      <th>...</th>\n",
       "      <td>...</td>\n",
       "      <td>...</td>\n",
       "      <td>...</td>\n",
       "      <td>...</td>\n",
       "      <td>...</td>\n",
       "      <td>...</td>\n",
       "      <td>...</td>\n",
       "      <td>...</td>\n",
       "    </tr>\n",
       "    <tr>\n",
       "      <th>493</th>\n",
       "      <td>2022-08-14</td>\n",
       "      <td>2022</td>\n",
       "      <td>8</td>\n",
       "      <td>GASOLINA COMUM</td>\n",
       "      <td>5.400</td>\n",
       "      <td>0.327</td>\n",
       "      <td>4.500</td>\n",
       "      <td>8.750</td>\n",
       "    </tr>\n",
       "    <tr>\n",
       "      <th>494</th>\n",
       "      <td>2022-08-21</td>\n",
       "      <td>2022</td>\n",
       "      <td>8</td>\n",
       "      <td>GASOLINA COMUM</td>\n",
       "      <td>5.250</td>\n",
       "      <td>0.328</td>\n",
       "      <td>4.190</td>\n",
       "      <td>7.000</td>\n",
       "    </tr>\n",
       "    <tr>\n",
       "      <th>495</th>\n",
       "      <td>2022-08-28</td>\n",
       "      <td>2022</td>\n",
       "      <td>8</td>\n",
       "      <td>GASOLINA COMUM</td>\n",
       "      <td>5.170</td>\n",
       "      <td>0.335</td>\n",
       "      <td>4.130</td>\n",
       "      <td>7.000</td>\n",
       "    </tr>\n",
       "    <tr>\n",
       "      <th>496</th>\n",
       "      <td>2022-09-04</td>\n",
       "      <td>2022</td>\n",
       "      <td>9</td>\n",
       "      <td>GASOLINA COMUM</td>\n",
       "      <td>5.030</td>\n",
       "      <td>0.352</td>\n",
       "      <td>4.350</td>\n",
       "      <td>7.090</td>\n",
       "    </tr>\n",
       "    <tr>\n",
       "      <th>497</th>\n",
       "      <td>2022-09-11</td>\n",
       "      <td>2022</td>\n",
       "      <td>9</td>\n",
       "      <td>GASOLINA COMUM</td>\n",
       "      <td>4.970</td>\n",
       "      <td>0.342</td>\n",
       "      <td>4.170</td>\n",
       "      <td>6.990</td>\n",
       "    </tr>\n",
       "  </tbody>\n",
       "</table>\n",
       "<p>498 rows × 8 columns</p>\n",
       "</div>"
      ],
      "text/plain": [
       "          data   ano  mes         produto  preco_medio_revenda  \\\n",
       "0   2012-12-30  2012   12  GASOLINA COMUM                2.758   \n",
       "1   2013-01-06  2013    1  GASOLINA COMUM                2.764   \n",
       "2   2013-01-13  2013    1  GASOLINA COMUM                2.758   \n",
       "3   2013-01-20  2013    1  GASOLINA COMUM                2.763   \n",
       "4   2013-01-27  2013    1  GASOLINA COMUM                2.772   \n",
       "..         ...   ...  ...             ...                  ...   \n",
       "493 2022-08-14  2022    8  GASOLINA COMUM                5.400   \n",
       "494 2022-08-21  2022    8  GASOLINA COMUM                5.250   \n",
       "495 2022-08-28  2022    8  GASOLINA COMUM                5.170   \n",
       "496 2022-09-04  2022    9  GASOLINA COMUM                5.030   \n",
       "497 2022-09-11  2022    9  GASOLINA COMUM                4.970   \n",
       "\n",
       "     desvio_padrao_revenda  preco_minimo_revenda  preco_maximo_revenda  \n",
       "0                    0.147                 2.269                 3.799  \n",
       "1                    0.146                 2.269                 3.799  \n",
       "2                    0.148                 2.269                 3.799  \n",
       "3                    0.146                 2.269                 3.799  \n",
       "4                    0.150                 2.229                 3.899  \n",
       "..                     ...                   ...                   ...  \n",
       "493                  0.327                 4.500                 8.750  \n",
       "494                  0.328                 4.190                 7.000  \n",
       "495                  0.335                 4.130                 7.000  \n",
       "496                  0.352                 4.350                 7.090  \n",
       "497                  0.342                 4.170                 6.990  \n",
       "\n",
       "[498 rows x 8 columns]"
      ]
     },
     "execution_count": 25,
     "metadata": {},
     "output_type": "execute_result"
    }
   ],
   "source": [
    "# Adiciona ano e mês para utilizá-los na predição\n",
    "gasolina_brasil.insert(1, 'mes', gasolina_brasil.data.apply(lambda x: x.month))\n",
    "gasolina_brasil.insert(1, 'ano', gasolina_brasil.data.apply(lambda x: x.year))\n",
    "gasolina_brasil"
   ]
  },
  {
   "cell_type": "code",
   "execution_count": 26,
   "id": "w2xY89En8nH0",
   "metadata": {
    "id": "w2xY89En8nH0"
   },
   "outputs": [],
   "source": [
    "# x --> O que será usado para realizar a predição\n",
    "# y --> O que será previsto\n",
    "\n",
    "x = gasolina_brasil[['ano', 'mes']]\n",
    "y = gasolina_brasil['preco_medio_revenda']"
   ]
  },
  {
   "cell_type": "code",
   "execution_count": 27,
   "id": "g39QllMd8GSM",
   "metadata": {
    "id": "g39QllMd8GSM"
   },
   "outputs": [],
   "source": [
    "x_treino, x_teste, y_treino, y_teste = train_test_split(x, y,\n",
    "                                                        test_size=0.15,  # 15% para teste e 85% para treino\n",
    "                                                        random_state=2)"
   ]
  },
  {
   "cell_type": "markdown",
   "id": "LWKKPwMoEBH7",
   "metadata": {
    "id": "LWKKPwMoEBH7"
   },
   "source": [
    "## Criação e treinamento do modelo mais adequado"
   ]
  },
  {
   "cell_type": "code",
   "execution_count": 28,
   "id": "6UD89T0mAJO6",
   "metadata": {
    "id": "6UD89T0mAJO6"
   },
   "outputs": [
    {
     "data": {
      "text/plain": [
       "XGBRegressor(base_score=0.5, booster='gbtree', callbacks=None,\n",
       "             colsample_bylevel=1, colsample_bynode=1, colsample_bytree=1,\n",
       "             early_stopping_rounds=None, enable_categorical=False,\n",
       "             eval_metric=None, gamma=0, gpu_id=-1, grow_policy='depthwise',\n",
       "             importance_type=None, interaction_constraints='',\n",
       "             learning_rate=0.300000012, max_bin=256, max_cat_to_onehot=4,\n",
       "             max_delta_step=0, max_depth=6, max_leaves=0, min_child_weight=1,\n",
       "             missing=nan, monotone_constraints='()', n_estimators=100, n_jobs=0,\n",
       "             num_parallel_tree=1, predictor='auto', random_state=0, reg_alpha=0,\n",
       "             reg_lambda=1, ...)"
      ]
     },
     "execution_count": 28,
     "metadata": {},
     "output_type": "execute_result"
    }
   ],
   "source": [
    "# Cria o modelo\n",
    "xgbr= XGBRegressor()\n",
    "\n",
    "# Treina o modelo\n",
    "xgbr.fit(x_treino, y_treino)"
   ]
  },
  {
   "cell_type": "code",
   "execution_count": 29,
   "id": "L_04TVhAAKtZ",
   "metadata": {
    "id": "L_04TVhAAKtZ"
   },
   "outputs": [
    {
     "data": {
      "text/plain": [
       "0.994841987209614"
      ]
     },
     "execution_count": 29,
     "metadata": {},
     "output_type": "execute_result"
    }
   ],
   "source": [
    "# Score\n",
    "xgbr.score(x_teste,y_teste)"
   ]
  },
  {
   "cell_type": "code",
   "execution_count": 30,
   "id": "hbnZmfL0AVFR",
   "metadata": {
    "id": "hbnZmfL0AVFR"
   },
   "outputs": [
    {
     "name": "stdout",
     "output_type": "stream",
     "text": [
      "Fitting 2 folds for each of 192 candidates, totalling 384 fits\n",
      "[19:33:58] WARNING: C:/Users/administrator/workspace/xgboost-win64_release_1.6.0/src/objective/regression_obj.cu:203: reg:linear is now deprecated in favor of reg:squarederror.\n"
     ]
    },
    {
     "data": {
      "text/plain": [
       "GridSearchCV(cv=2,\n",
       "             estimator=XGBRegressor(base_score=None, booster=None,\n",
       "                                    callbacks=None, colsample_bylevel=None,\n",
       "                                    colsample_bynode=None,\n",
       "                                    colsample_bytree=None,\n",
       "                                    early_stopping_rounds=None,\n",
       "                                    enable_categorical=False, eval_metric=None,\n",
       "                                    gamma=None, gpu_id=None, grow_policy=None,\n",
       "                                    importance_type=None,\n",
       "                                    interaction_constraints=None,\n",
       "                                    learning_rate=None, max_bin=None,\n",
       "                                    max_cat...\n",
       "                                    monotone_constraints=None, n_estimators=100,\n",
       "                                    n_jobs=None, num_parallel_tree=None,\n",
       "                                    predictor=None, random_state=None,\n",
       "                                    reg_alpha=None, reg_lambda=None, ...),\n",
       "             n_jobs=5,\n",
       "             param_grid={'colsample_bytree': [0.5, 1],\n",
       "                         'learning_rate': [0.1, 0.2, 0.5, 0.01],\n",
       "                         'max_depth': [2, 3], 'min_child_weight': [0.5, 1],\n",
       "                         'n_estimators': [100, 200, 300],\n",
       "                         'objective': ['reg:linear'], 'subsample': [0.5, 1]},\n",
       "             verbose=True)"
      ]
     },
     "execution_count": 30,
     "metadata": {},
     "output_type": "execute_result"
    }
   ],
   "source": [
    "# Cria outro modelo para tentar melhorar eficácia\n",
    "xgbr_2= XGBRegressor()\n",
    "\n",
    "# Possíveis parâmetros a serem testados\n",
    "parameters = {'objective': ['reg:linear'],\n",
    "              'learning_rate': [.1, 0.2, .5, 0.01],\n",
    "              'max_depth': [2, 3],\n",
    "              'min_child_weight': [0.5, 1],\n",
    "              'subsample': [0.5, 1],\n",
    "              'colsample_bytree': [0.5, 1],\n",
    "              'n_estimators': [100, 200, 300]}\n",
    "\n",
    "xgb_grid = GridSearchCV(xgbr_2,\n",
    "                        parameters,\n",
    "                        cv=2,\n",
    "                        n_jobs=5,\n",
    "                        verbose=True)\n",
    "\n",
    "xgb_grid.fit(x_treino,y_treino)"
   ]
  },
  {
   "cell_type": "code",
   "execution_count": 31,
   "id": "qqivkP20Aetq",
   "metadata": {
    "id": "qqivkP20Aetq"
   },
   "outputs": [
    {
     "data": {
      "text/plain": [
       "{'colsample_bytree': 1,\n",
       " 'learning_rate': 0.2,\n",
       " 'max_depth': 3,\n",
       " 'min_child_weight': 0.5,\n",
       " 'n_estimators': 300,\n",
       " 'objective': 'reg:linear',\n",
       " 'subsample': 1}"
      ]
     },
     "execution_count": 31,
     "metadata": {},
     "output_type": "execute_result"
    }
   ],
   "source": [
    "# Exibe os melhores parâmetros\n",
    "xgb_grid.best_params_"
   ]
  },
  {
   "cell_type": "code",
   "execution_count": 32,
   "id": "g1-d3OqfAc4p",
   "metadata": {
    "id": "g1-d3OqfAc4p"
   },
   "outputs": [
    {
     "name": "stdout",
     "output_type": "stream",
     "text": [
      "[19:33:59] WARNING: C:/Users/administrator/workspace/xgboost-win64_release_1.6.0/src/objective/regression_obj.cu:203: reg:linear is now deprecated in favor of reg:squarederror.\n"
     ]
    },
    {
     "data": {
      "text/plain": [
       "XGBRegressor(base_score=0.5, booster='gbtree', callbacks=None,\n",
       "             colsample_bylevel=1, colsample_bynode=1, colsample_bytree=1,\n",
       "             early_stopping_rounds=None, enable_categorical=False,\n",
       "             eval_metric=None, gamma=0, gpu_id=-1, grow_policy='depthwise',\n",
       "             importance_type=None, interaction_constraints='',\n",
       "             learning_rate=0.2, max_bin=256, max_cat_to_onehot=4,\n",
       "             max_delta_step=0, max_depth=3, max_leaves=0, min_child_weight=0.5,\n",
       "             missing=nan, monotone_constraints='()', n_estimators=300, n_jobs=0,\n",
       "             num_parallel_tree=1, objective='reg:linear', predictor='auto',\n",
       "             random_state=0, reg_alpha=0, ...)"
      ]
     },
     "execution_count": 32,
     "metadata": {},
     "output_type": "execute_result"
    }
   ],
   "source": [
    "# Cria um modelo com os melhores parâmetros\n",
    "xgbr_melhorado = XGBRegressor(colsample_bytree=1,\n",
    "                              learning_rate=0.2,\n",
    "                              max_depth=3,\n",
    "                              min_child_weight=0.5,\n",
    "                              n_estimators=300,\n",
    "                              objective='reg:linear',\n",
    "                              subsample=1)\n",
    "\n",
    "# Treina o modelo\n",
    "xgbr_melhorado.fit(x_treino, y_treino)"
   ]
  },
  {
   "cell_type": "code",
   "execution_count": 33,
   "id": "cwQESSDqA2ZA",
   "metadata": {
    "id": "cwQESSDqA2ZA"
   },
   "outputs": [
    {
     "data": {
      "text/plain": [
       "0.9943096653609567"
      ]
     },
     "execution_count": 33,
     "metadata": {},
     "output_type": "execute_result"
    }
   ],
   "source": [
    "predicao_melhorada = xgbr_melhorado.predict(x_teste)\n",
    "predicao_xgbr = xgbr.predict(x_teste)\n",
    "\n",
    "# Novo Score\n",
    "xgbr_melhorado.score(x_teste,y_teste)"
   ]
  },
  {
   "cell_type": "markdown",
   "id": "Er-Kvv5nICF0",
   "metadata": {
    "id": "Er-Kvv5nICF0"
   },
   "source": [
    "## Métricas de desempenho"
   ]
  },
  {
   "cell_type": "code",
   "execution_count": 34,
   "id": "sYNvqCJvA6lg",
   "metadata": {
    "id": "sYNvqCJvA6lg"
   },
   "outputs": [
    {
     "name": "stdout",
     "output_type": "stream",
     "text": [
      "Erro Médio Absoluto (MAE): 0.045608786875406926\n",
      "Erro Quadrático Médio (MSE): 0.007728384978338731\n",
      "Raiz do Erro Quadrático Médio (RMSE): 0.08791123351619366\n",
      "Coeficiente de determinação: 0.9943096653609567\n"
     ]
    }
   ],
   "source": [
    "print(f'Erro Médio Absoluto (MAE): {mean_absolute_error(y_teste, predicao_melhorada)}')\n",
    "print(f'Erro Quadrático Médio (MSE): {mean_squared_error(y_teste, predicao_melhorada)}')\n",
    "print(f'Raiz do Erro Quadrático Médio (RMSE): {np.sqrt(mean_squared_error(y_teste, predicao_melhorada))}')\n",
    "print(f'Coeficiente de determinação: {r2_score(y_teste, predicao_melhorada)}')"
   ]
  },
  {
   "cell_type": "markdown",
   "id": "dLdS-KFOTqaN",
   "metadata": {
    "id": "dLdS-KFOTqaN"
   },
   "source": [
    "## Testes e Predições"
   ]
  },
  {
   "cell_type": "code",
   "execution_count": 35,
   "id": "g1EL-bL5A_6A",
   "metadata": {
    "id": "g1EL-bL5A_6A"
   },
   "outputs": [
    {
     "name": "stdout",
     "output_type": "stream",
     "text": [
      "Teste de predição de preço para Julho/2022: 5.96034\n",
      "Preço médio real: 5.958\n",
      "O algoritmo previu 99.96% do valor\n",
      "\n",
      "Teste de predição de preço para Agosto/2022: 5.34718\n",
      "Preço médio real: 5.33\n",
      "O algoritmo previu 99.68% do valor\n"
     ]
    }
   ],
   "source": [
    "# Lista com tuplas para teste (datas que já existem)\n",
    "teste = [(2022,7),(2022,8)]\n",
    "\n",
    "# Lista com tuplas para predição\n",
    "predicao = [(2022,9),(2022,10),(2022,11),(2022,12)]\n",
    "\n",
    "# DataFrames para predição\n",
    "df_teste = pd.DataFrame(teste, columns=['ano', 'mes'])\n",
    "df_predicao = pd.DataFrame(predicao, columns=['ano', 'mes'])\n",
    "\n",
    "testes = xgbr_melhorado.predict(df_teste)\n",
    "julho_2022 = gasolina_brasil.loc[gasolina_brasil.ano == 2022].loc[gasolina_brasil.mes == 7]['preco_medio_revenda'].mean()\n",
    "agosto_2022 = gasolina_brasil.loc[gasolina_brasil.ano == 2022].loc[gasolina_brasil.mes == 8]['preco_medio_revenda'].mean()\n",
    "\n",
    "\n",
    "\n",
    "print(f'Teste de predição de preço para Julho/2022: {testes[0]:.5f}')\n",
    "print(f'Preço médio real: {julho_2022}')\n",
    "print(f'O algoritmo previu {round((testes[0] / julho_2022 if testes[0] < julho_2022 else julho_2022 / testes[0]) * 100, 2)}% do valor\\n')\n",
    "\n",
    "print(f'Teste de predição de preço para Agosto/2022: {testes[1]:.5f}')\n",
    "print(f'Preço médio real: {agosto_2022}')\n",
    "print(f'O algoritmo previu {round((testes[1] / agosto_2022 if testes[1] < agosto_2022 else agosto_2022 / testes[1]) * 100, 2)}% do valor')"
   ]
  },
  {
   "cell_type": "code",
   "execution_count": 36,
   "id": "pSY2k-9pG-j6",
   "metadata": {
    "id": "pSY2k-9pG-j6"
   },
   "outputs": [
    {
     "name": "stdout",
     "output_type": "stream",
     "text": [
      "As predições do preço médio de revenda da gasolina comum no Brasil para o restante do ano de 2022 são:\n",
      "\n",
      "Setembro/2022 --> 4.98403\n",
      "Outubro/2022 --> 5.14553\n",
      "Novembro/2022 --> 5.37352\n",
      "Dezembro/2022 --> 5.31885\n"
     ]
    }
   ],
   "source": [
    "predicoes = xgbr_melhorado.predict(df_predicao)\n",
    "\n",
    "print(f'As predições do preço médio de revenda da gasolina comum no Brasil para o restante do ano de 2022 são:\\n')\n",
    "print(f'Setembro/2022 --> {predicoes[0]:.5f}')\n",
    "print(f'Outubro/2022 --> {predicoes[1]:.5f}')\n",
    "print(f'Novembro/2022 --> {predicoes[2]:.5f}')\n",
    "print(f'Dezembro/2022 --> {predicoes[3]:.5f}')"
   ]
  },
  {
   "cell_type": "markdown",
   "id": "b1e501e4",
   "metadata": {},
   "source": [
    "## Atualizações - Eficácia das predições"
   ]
  },
  {
   "cell_type": "code",
   "execution_count": 37,
   "id": "7ab75d7d",
   "metadata": {},
   "outputs": [],
   "source": [
    "gasolina_atualizacao = pd.read_excel('dados/semanal-atualizado.xlsx')"
   ]
  },
  {
   "cell_type": "code",
   "execution_count": 38,
   "id": "c73aace1",
   "metadata": {},
   "outputs": [
    {
     "name": "stdout",
     "output_type": "stream",
     "text": [
      "Predição de preço para Setembro/2022: 4.98403\n",
      "Preço médio real: 4.92250\n",
      "O algoritmo previu 98.77% do valor\n",
      "\n",
      "Predição de preço para Outubro/2022: 5.14553\n",
      "Preço médio real: 4.88400\n",
      "O algoritmo previu 97.99% do valor\n"
     ]
    }
   ],
   "source": [
    "gasolina_atualizacao.insert(1, 'mes', gasolina_atualizacao['DATA INICIAL'].apply(lambda x: x.month))\n",
    "gasolina_atualizacao.insert(1, 'ano', gasolina_atualizacao['DATA INICIAL'].apply(lambda x: x.year))\n",
    "\n",
    "setembro_2022 = gasolina_atualizacao.loc[gasolina_atualizacao['PRODUTO'] == 'GASOLINA COMUM'] \\\n",
    "    .loc[gasolina_atualizacao.ano == 2022].loc[gasolina_atualizacao.mes == 9]['PREÇO MÉDIO REVENDA'].mean()\n",
    "\n",
    "outubro_2022 = gasolina_atualizacao.loc[gasolina_atualizacao['PRODUTO'] == 'GASOLINA COMUM'] \\\n",
    "    .loc[gasolina_atualizacao.ano == 2022].loc[gasolina_atualizacao.mes == 10]['PREÇO MÉDIO REVENDA'].mean()\n",
    "\n",
    "print(f'Predição de preço para Setembro/2022: {predicoes[0]:.5f}')\n",
    "print(f'Preço médio real: {setembro_2022:.5f}')\n",
    "print(f'O algoritmo previu {round((predicoes[0] / setembro_2022 if predicoes[0] < setembro_2022 else setembro_2022 / predicoes[0]) * 100, 2)}% do valor')\n",
    "\n",
    "print(f'\\nPredição de preço para Outubro/2022: {predicoes[1]:.5f}')\n",
    "print(f'Preço médio real: {outubro_2022:.5f}')\n",
    "print(f'O algoritmo previu {round((predicoes[0] / outubro_2022 if predicoes[0] < outubro_2022 else outubro_2022 / predicoes[0]) * 100, 2)}% do valor')"
   ]
  }
 ],
 "metadata": {
  "colab": {
   "collapsed_sections": [],
   "provenance": []
  },
  "kernelspec": {
   "display_name": "Python 3 (ipykernel)",
   "language": "python",
   "name": "python3"
  },
  "language_info": {
   "codemirror_mode": {
    "name": "ipython",
    "version": 3
   },
   "file_extension": ".py",
   "mimetype": "text/x-python",
   "name": "python",
   "nbconvert_exporter": "python",
   "pygments_lexer": "ipython3",
   "version": "3.9.12"
  }
 },
 "nbformat": 4,
 "nbformat_minor": 5
}
